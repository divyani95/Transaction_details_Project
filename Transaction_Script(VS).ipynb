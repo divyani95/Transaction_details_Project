{
  "nbformat": 4,
  "nbformat_minor": 0,
  "metadata": {
    "colab": {
      "provenance": [],
      "authorship_tag": "ABX9TyN0qA1JqbE3Old7Xxg6/a1t",
      "include_colab_link": true
    },
    "kernelspec": {
      "name": "python3",
      "display_name": "Python 3"
    },
    "language_info": {
      "name": "python"
    }
  },
  "cells": [
    {
      "cell_type": "markdown",
      "metadata": {
        "id": "view-in-github",
        "colab_type": "text"
      },
      "source": [
        "<a href=\"https://colab.research.google.com/github/divyani95/Transaction_details_Project/blob/main/Transaction_Script(VS).ipynb\" target=\"_parent\"><img src=\"https://colab.research.google.com/assets/colab-badge.svg\" alt=\"Open In Colab\"/></a>"
      ]
    },
    {
      "cell_type": "code",
      "execution_count": null,
      "metadata": {
        "id": "NqdhxLMUBEmT"
      },
      "outputs": [],
      "source": [
        "import tkinter as tk\n",
        "from tkinter import filedialog, messagebox\n",
        "import pandas as pd\n",
        "import os\n",
        "\n",
        "def read_and_clean_file():\n",
        "    file_path = filedialog.askopenfilename(\n",
        "        title=\"Select Transaction File\",\n",
        "        filetypes=((\"Excel files\", \"*.xls;*.xlsx\"), (\"CSV files\", \"*.csv\"), (\"All files\", \"*.*\"))\n",
        "    )\n",
        "\n",
        "    if not file_path:\n",
        "        messagebox.showinfo(\"No file selected\", \"Please select a file to process.\")\n",
        "        return\n",
        "\n",
        "    try:\n",
        "        # Read the file\n",
        "        if file_path.lower().endswith('.csv'):\n",
        "            df = pd.read_csv(file_path)\n",
        "        else:\n",
        "            df = pd.read_excel(file_path, engine='openpyxl')\n",
        "\n",
        "        # Define helper function for column matching\n",
        "        def get_column_name(possible_names, df_columns):\n",
        "            for name in df_columns:\n",
        "                if any(possible_name.lower() == name.lower() for possible_name in possible_names):\n",
        "                    return name\n",
        "            return None\n",
        "\n",
        "        # Identify required columns\n",
        "        transaction_date_col = get_column_name([\"Transaction Date\"], df.columns)\n",
        "        debit_amount_col = get_column_name([\"Debit Amount\"], df.columns)\n",
        "        description_col = get_column_name([\"Transaction Description\"], df.columns)\n",
        "\n",
        "        if not debit_amount_col:\n",
        "            messagebox.showerror(\"Error\", \"Debit Amount column not found.\")\n",
        "            return\n",
        "        # Split \"Transaction Date\" into \"Transaction-Date\" & \"Transaction-Time\"\n",
        "        if transaction_date_col:\n",
        "            df[[\"Transaction-Date\", \"Transaction-Time\"]] = df[transaction_date_col].astype(str).str.split(\" \", expand=True)\n",
        "            df.drop(columns=[transaction_date_col], inplace=True)\n",
        "             # Convert \"Transaction-Date\" to proper date format\n",
        "        df[\"Transaction-Date\"] = pd.to_datetime(df[\"Transaction-Date\"], errors=\"coerce\").dt.date\n",
        "\n",
        "        # Convert \"Transaction-Time\" to proper time format if available\n",
        "        if \"Transaction-Time\" in df.columns:\n",
        "            df[\"Transaction-Time\"] = pd.to_datetime(df[\"Transaction-Time\"], errors=\"coerce\").dt.time\n",
        "        # Clean \"Debit Amount\" column\n",
        "        df[debit_amount_col] = df[debit_amount_col].astype(str).str.replace(',', '').str.strip()\n",
        "        df[debit_amount_col] = pd.to_numeric(df[debit_amount_col], errors='coerce')\n",
        "\n",
        "        # Remove rows where \"Debit Amount\" is 0.00\n",
        "        df = df[df[debit_amount_col] != 0.00]\n",
        "\n",
        "        # Filter transactions for \"NEFT\" or \"RTGS\"\n",
        "        if description_col:\n",
        "            df = df[df[description_col].str.startswith((\"NEFT\", \"RTGS\"), na=False)]\n",
        "\n",
        "        # Split \"Transaction Date\" into Date & Time\n",
        "        if transaction_date_col:\n",
        "            df[[\"Transaction-Date\", \"Transaction-Time\"]] = df[transaction_date_col].astype(str).str.split(\" \", expand=True)\n",
        "            df.drop(columns=[transaction_date_col], inplace=True)\n",
        "\n",
        "            df[\"Transaction-Date\"] = pd.to_datetime(df[\"Transaction-Date\"], errors=\"coerce\").dt.date\n",
        "            if \"Transaction-Time\" in df.columns:\n",
        "                df[\"Transaction-Time\"] = pd.to_datetime(df[\"Transaction-Time\"], errors=\"coerce\").dt.time\n",
        "\n",
        "        # Save cleaned dataset\n",
        "        output_path = os.path.join(os.path.dirname(file_path), \"Transactions_Details_Cleaned.xlsx\")\n",
        "        df.to_excel(output_path, index=False, engine='openpyxl')\n",
        "\n",
        "        messagebox.showinfo(\"Success\", f\"Cleaned dataset saved at:\\n{output_path}\")\n",
        "\n",
        "    except Exception as e:\n",
        "        messagebox.showerror(\"Error\", f\"An error occurred:\\n{e}\")\n",
        "\n",
        "def create_gui():\n",
        "    root = tk.Tk()\n",
        "    root.title(\"Transaction Data Cleaner\")\n",
        "    root.minsize(300, 150)\n",
        "\n",
        "    read_button = tk.Button(root, text=\"Read File\", command=read_and_clean_file, width=20, height=2)\n",
        "    read_button.pack(pady=40)\n",
        "\n",
        "    root.mainloop()\n",
        "\n",
        "if __name__ == \"__main__\":\n",
        "    create_gui()"
      ]
    }
  ]
}