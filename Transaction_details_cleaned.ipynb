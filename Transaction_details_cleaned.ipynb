{
  "nbformat": 4,
  "nbformat_minor": 0,
  "metadata": {
    "colab": {
      "provenance": [],
      "authorship_tag": "ABX9TyN2ggMlT7iDmgZ+x1VuXxk9",
      "include_colab_link": true
    },
    "kernelspec": {
      "name": "python3",
      "display_name": "Python 3"
    },
    "language_info": {
      "name": "python"
    }
  },
  "cells": [
    {
      "cell_type": "markdown",
      "metadata": {
        "id": "view-in-github",
        "colab_type": "text"
      },
      "source": [
        "<a href=\"https://colab.research.google.com/github/divyani95/Transaction_details_Project/blob/main/Transaction_details_cleaned.ipynb\" target=\"_parent\"><img src=\"https://colab.research.google.com/assets/colab-badge.svg\" alt=\"Open In Colab\"/></a>"
      ]
    },
    {
      "cell_type": "code",
      "execution_count": null,
      "metadata": {
        "id": "ubc29803YUCJ"
      },
      "outputs": [],
      "source": [
        "import pandas as pd\n",
        "\n",
        "# Load the Excel file\n",
        "file_path = '/mnt/data/Transactions_Details_30Jan2025_102227.xls'\n",
        "\n",
        "# Load the file without a header to inspect structure\n",
        "df_raw = pd.read_excel(file_path, header=None)\n",
        "print(\"Preview of Raw Data:\\n\", df_raw.head(16))\n",
        "\n",
        "# Identify the correct header row and reload with headers\n",
        "header_row = 14  # Adjust if necessary\n",
        "df = pd.read_excel(file_path, header=header_row)\n",
        "\n",
        "# Print actual column names for verification\n",
        "print(\"Column Names:\", df.columns.tolist())\n",
        "\n",
        "# Ensure correct column name references (case-insensitive matching)\n",
        "def get_column_name(possible_names, df_columns):\n",
        "    \"\"\"Returns the correct column name from a list of possible names.\"\"\"\n",
        "    for name in df_columns:\n",
        "        if any(possible_name.lower() == name.lower() for possible_name in possible_names):\n",
        "            return name\n",
        "    return None  # If no match found\n",
        "\n",
        "# Identify actual column names\n",
        "transaction_date_col = get_column_name([\"Transaction Date\"], df.columns)\n",
        "debit_amount_col = get_column_name([\"Debit Amount\"], df.columns)\n",
        "credit_amount_col = get_column_name([\"Credit Amount\"], df.columns)\n",
        "running_balance_col = get_column_name([\"Running Balance\"], df.columns)\n",
        "description_col = get_column_name([\"Transaction Description\"], df.columns)\n",
        "\n",
        "# Drop unnecessary columns\n",
        "columns_to_drop = [credit_amount_col, running_balance_col]\n",
        "df.drop(columns=[col for col in columns_to_drop if col], inplace=True, errors=\"ignore\")\n",
        "\n",
        "# Filter out rows where 'Debit Amount' is 0.00\n",
        "if debit_amount_col:\n",
        "    df = df[df[debit_amount_col] != 0.00]\n",
        "\n",
        "# Split 'Transaction Date' into 'Date' and 'Time'\n",
        "if transaction_date_col:\n",
        "    df[[\"Date\", \"Time\"]] = df[transaction_date_col].astype(str).str.split(\" \", expand=True)\n",
        "    df.drop(columns=[transaction_date_col], inplace=True)\n",
        "\n",
        "# Convert 'Date' to proper format\n",
        "df['Date'] = pd.to_datetime(df['Date'], errors='coerce').dt.date\n",
        "\n",
        "# Convert 'Time' to proper format if available\n",
        "if 'Time' in df.columns:\n",
        "    df['Time'] = pd.to_datetime(df['Time'], errors='coerce').dt.time\n",
        "\n",
        "# Keep only transactions with 'NEFT' or 'RTGS' in 'Transaction Description'\n",
        "if description_col:\n",
        "    df = df[df[description_col].str.contains('NEFT|RTGS', case=False, na=False)]\n",
        "else:\n",
        "    print(\"Warning: 'Transaction Description' column not found.\")\n",
        "\n",
        "# Save cleaned dataset\n",
        "output_path = \"/mnt/data/Transactions_Details_Cleaned.xlsx\"\n",
        "df.to_excel(output_path, index=False)\n",
        "\n",
        "# Print final dataset shape and preview\n",
        "print(\"Updated Shape of Dataset:\", df.shape)\n",
        "print(df.head())\n",
        "\n",
        "# Output file location\n",
        "print(f\"Cleaned dataset saved at: {output_path}\")\n",
        "now i want to remove 00:00:00 from the Transaction Date column"
      ]
    }
  ]
}